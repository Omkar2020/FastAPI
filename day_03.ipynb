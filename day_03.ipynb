{
  "nbformat": 4,
  "nbformat_minor": 0,
  "metadata": {
    "colab": {
      "provenance": [],
      "authorship_tag": "ABX9TyOZtyCRDWPOTeDceEpJeu0W",
      "include_colab_link": true
    },
    "kernelspec": {
      "name": "python3",
      "display_name": "Python 3"
    },
    "language_info": {
      "name": "python"
    }
  },
  "cells": [
    {
      "cell_type": "markdown",
      "metadata": {
        "id": "view-in-github",
        "colab_type": "text"
      },
      "source": [
        "<a href=\"https://colab.research.google.com/github/Omkar2020/FastAPI/blob/main/day_03.ipynb\" target=\"_parent\"><img src=\"https://colab.research.google.com/assets/colab-badge.svg\" alt=\"Open In Colab\"/></a>"
      ]
    },
    {
      "cell_type": "code",
      "execution_count": 12,
      "metadata": {
        "id": "N0khM-mCiAfR"
      },
      "outputs": [],
      "source": [
        "ticket_price = 90\n",
        "pocket_size=100\n",
        "\n"
      ]
    },
    {
      "cell_type": "code",
      "source": [
        "ticket_price"
      ],
      "metadata": {
        "colab": {
          "base_uri": "https://localhost:8080/"
        },
        "id": "jvmqYZ0TiMGo",
        "outputId": "773e7add-a9ff-419b-e03f-178069a03787"
      },
      "execution_count": 13,
      "outputs": [
        {
          "output_type": "execute_result",
          "data": {
            "text/plain": [
              "90"
            ]
          },
          "metadata": {},
          "execution_count": 13
        }
      ]
    },
    {
      "cell_type": "code",
      "source": [
        "pocket_size"
      ],
      "metadata": {
        "colab": {
          "base_uri": "https://localhost:8080/"
        },
        "id": "Jo8WldjHj8sR",
        "outputId": "116f6834-bcb9-4ad9-986c-fed460a0d375"
      },
      "execution_count": 14,
      "outputs": [
        {
          "output_type": "execute_result",
          "data": {
            "text/plain": [
              "100"
            ]
          },
          "metadata": {},
          "execution_count": 14
        }
      ]
    },
    {
      "cell_type": "code",
      "source": [
        "if ticket_price<=pocket_size:\n",
        " print (\"Hurray I can go for that Movies \")\n",
        "else:\n",
        "  print(\"I do not have enough money to enjoy the Movies\")\n",
        ""
      ],
      "metadata": {
        "colab": {
          "base_uri": "https://localhost:8080/"
        },
        "id": "ach13rU7kUWt",
        "outputId": "25e3b9d7-aade-4dda-f6c6-1f1505ce82a4"
      },
      "execution_count": 16,
      "outputs": [
        {
          "output_type": "stream",
          "name": "stdout",
          "text": [
            "Hurray I can go for that Movies \n"
          ]
        }
      ]
    },
    {
      "cell_type": "code",
      "source": [
        "marks = 55\n",
        "if marks >= 90:\n",
        "  print (\"A+\")\n",
        "elif marks >= 80:\n",
        "  print (\"A\")\n",
        "elif marks >= 70:\n",
        "  print (\"B+\")\n",
        "elif marks >= 60:\n",
        "  print (\"A\")\n",
        "else :\n",
        "  print (\"Fail\")\n",
        "\n"
      ],
      "metadata": {
        "colab": {
          "base_uri": "https://localhost:8080/"
        },
        "id": "i8WK0Hpyl8c4",
        "outputId": "d031b451-042e-46e6-a85b-2b2c08947bdf"
      },
      "execution_count": 22,
      "outputs": [
        {
          "output_type": "stream",
          "name": "stdout",
          "text": [
            "Fail\n"
          ]
        }
      ]
    },
    {
      "cell_type": "code",
      "source": [
        "num1 = 11\n",
        "if (num1%2)==0:\n",
        "  print (\"The Number is Even\")\n",
        "else:\n",
        "  print(\"The Number is Odd\")\n"
      ],
      "metadata": {
        "colab": {
          "base_uri": "https://localhost:8080/"
        },
        "id": "BzUJFMxRme2m",
        "outputId": "f8577584-50d9-4036-c723-66e1f6f075b8"
      },
      "execution_count": 6,
      "outputs": [
        {
          "output_type": "stream",
          "name": "stdout",
          "text": [
            "The Number is Odd\n"
          ]
        }
      ]
    },
    {
      "cell_type": "code",
      "source": [
        "Year = 2020\n",
        "if (Year%400 == 0 ) or (Year%4) == 0 and (Year%100) != 0:\n",
        "    print (\"The Year is Leap Year\")\n",
        "else:\n",
        "      print(\"The Year is Not Leap Year\")\n",
        "\n"
      ],
      "metadata": {
        "colab": {
          "base_uri": "https://localhost:8080/"
        },
        "id": "1XysmY595ZA3",
        "outputId": "3a821499-c4f5-4221-9eeb-65f159b10528"
      },
      "execution_count": 17,
      "outputs": [
        {
          "output_type": "stream",
          "name": "stdout",
          "text": [
            "The Year is Leap Year\n"
          ]
        }
      ]
    }
  ]
}